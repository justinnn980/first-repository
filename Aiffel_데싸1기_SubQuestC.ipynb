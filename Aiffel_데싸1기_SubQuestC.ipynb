{
  "nbformat": 4,
  "nbformat_minor": 0,
  "metadata": {
    "colab": {
      "provenance": []
    },
    "kernelspec": {
      "name": "python3",
      "display_name": "Python 3"
    },
    "language_info": {
      "name": "python"
    }
  },
  "cells": [
    {
      "cell_type": "code",
      "source": [
        "import random as rand\n",
        "from datetime import date, datetime, timezone, timedelta"
      ],
      "metadata": {
        "id": "PwM5iId0r5zC"
      },
      "execution_count": null,
      "outputs": []
    },
    {
      "cell_type": "code",
      "execution_count": null,
      "metadata": {
        "id": "D3nDiPqEoKuA"
      },
      "outputs": [],
      "source": [
        "class Account():\n",
        "\n",
        "  def __init__(self, 예금주, 초기잔액):\n",
        "    self.은행이름 = 'SC은행'\n",
        "    self.예금주 = 예금주\n",
        "    self.잔액 = 초기잔액\n",
        "    num1 = rand.randint(0, 999)\n",
        "    num2 = rand.randint(0,99)\n",
        "    num3 = rand.randint(0,999999)\n",
        "    num1 = str(num1).zfill(3)\n",
        "    num2 = str(num2).zfill(2)\n",
        "    num3 = str(num3).zfill(6)\n",
        "    self.계좌번호 = num1+'-'+num2+'-'+num3\n",
        "    self.deposit_count = 0\n",
        "    self.deposit_record = []\n",
        "    self.withdraw_record = []\n",
        "    self.transfer_record = []\n",
        "    self.all_record = []\n",
        "\n",
        "#입급하기\n",
        "  def deposit(self, 입금액):\n",
        "    if 입금액 >= 1 :\n",
        "      self.잔액 += 입금액\n",
        "\n",
        "      self.deposit_count += 1\n",
        "      KST = timezone(timedelta(hours=9))\n",
        "      time_record = datetime.now(KST)\n",
        "      self.deposit_record.append((time_record,입금액,self.잔액))\n",
        "      self.all_record.append(('입금',time_record,입금액,self.잔액))\n",
        "      if self.deposit_count % 5 == 0:\n",
        "        self.잔액 = (self.잔액 * 1.01)\n",
        "\n",
        "#수취하기\n",
        "  def transfer_deposit(self, 받은금액):\n",
        "    if 받은금액 >= 1 :\n",
        "      self.잔액 += 받은금액\n",
        "\n",
        "      KST = timezone(timedelta(hours=9))\n",
        "      time_record = datetime.now(KST)\n",
        "      self.transfer_record.append((\"받기\", time_record,받은금액, self.잔액))\n",
        "      self.all_record.append(('수취', time_record,받은금액, self.잔액))\n",
        "\n",
        "#출금하기\n",
        "  def withdraw(self, 출금액):\n",
        "    if 출금액 <= self.잔액:\n",
        "      self.잔액 -= 출금액\n",
        "\n",
        "      KST = timezone(timedelta(hours=9))\n",
        "      time_record = datetime.now(KST)\n",
        "      self.withdraw_record.append((time_record,출금액,self.잔액))\n",
        "      self.all_record.append(('출금', time_record,출금액,self.잔액))\n",
        "\n",
        "#송금하기\n",
        "  def transfer_withdraw(self, 송금액):\n",
        "    if 송금액 <= self.잔액:\n",
        "      self.잔액 -= 송금액\n",
        "\n",
        "      KST = timezone(timedelta(hours=9))\n",
        "      time_record = datetime.now(KST)\n",
        "      self.transfer_record.append((\"보내기\", time_record,송금액, self.잔액))\n",
        "      self.all_record.append(('송금', time_record,송금액, self.잔액))\n",
        "\n",
        "#정보 가져오기\n",
        "  def display_info(self):\n",
        "    print(\"은행이름: \", self.은행이름)\n",
        "    print(\"예금주: \", self.예금주)\n",
        "    print(\"계좌번호: \", self.계좌번호)\n",
        "    print(\"잔액: \", format(self.잔액,','))\n",
        "\n",
        "#입금 정보 가져오기\n",
        "  def deposit_history(self):\n",
        "    for i in self.deposit_record:\n",
        "      print(\"입금시간: \",i[0],\", 입금액: \",format(i[1],','), \", 잔액: \", format(i[2],','))\n",
        "\n",
        "#출금 정보 가져오기\n",
        "  def withdraw_history(self):\n",
        "    for i in self.withdraw_record:\n",
        "      print(\"출금시간: \",i[0], \", 출금액: \",format(i[1],','), \", 잔액: \",format(i[2],','))\n",
        "\n",
        "#송금 수취 가져오기\n",
        "  def transfer_history(self):\n",
        "    if self.transfer_record[-1][0] == \"보내기\":\n",
        "      print(self.transfer_record[-1][0],',',\"송금시간: \",self.transfer_record[-1][1],\",송금액: \",format(self.transfer_record[-1][2],','),\",잔액: \",format(self.transfer_record[-1][3],','))\n",
        "    else:\n",
        "      print(self.transfer_record[-1][0],',',\"수취시간: \",self.transfer_record[-1][1],\",수취금액: \",format(self.transfer_record[-1][2],','),\",잔액: \",format(self.transfer_record[-1][3],','))\n",
        "\n",
        "#모든 입출금 정보 가져오기\n",
        "  def all_history(self):\n",
        "    for i in self.all_record:\n",
        "      print(i[0],',',\"시간: \",i[1],\", 금액: \",format(i[2],','),\", 잔액: \",format(i[3],','))\n"
      ]
    },
    {
      "cell_type": "code",
      "source": [
        "# 계좌 개설\n",
        "# 예금주, 초기잔액\n",
        "acc_정원 = Account('윤정원', 10000)"
      ],
      "metadata": {
        "id": "ZIHmKXJPfNdV"
      },
      "execution_count": null,
      "outputs": []
    },
    {
      "cell_type": "code",
      "source": [
        "# 입금 매서드\n",
        "acc_정원.deposit(10000)"
      ],
      "metadata": {
        "id": "ujWLXxoiffo3"
      },
      "execution_count": null,
      "outputs": []
    },
    {
      "cell_type": "code",
      "source": [
        "# 출금 매서드\n",
        "acc_정원.withdraw(10000)"
      ],
      "metadata": {
        "id": "EsszI3eVhCll"
      },
      "execution_count": null,
      "outputs": []
    },
    {
      "cell_type": "code",
      "source": [
        "# 정보 출력 매서드\n",
        "acc_정원.display_info()"
      ],
      "metadata": {
        "colab": {
          "base_uri": "https://localhost:8080/"
        },
        "id": "mmsU7XKWhW8N",
        "outputId": "b143d8a1-f44e-4947-eac3-95dbebe2f994"
      },
      "execution_count": null,
      "outputs": [
        {
          "output_type": "stream",
          "name": "stdout",
          "text": [
            "은행이름:  SC은행\n",
            "예금주:  윤정원\n",
            "계좌번호:  237-24-902025\n",
            "잔액:  10,000\n"
          ]
        }
      ]
    },
    {
      "cell_type": "code",
      "source": [
        "# 이자\n",
        "acc_정원.deposit(10000)\n",
        "acc_정원.deposit(10000)\n",
        "acc_정원.deposit(10000)\n",
        "acc_정원.deposit(10000)\n",
        "acc_정원.deposit(10000)\n",
        "acc_정원.deposit_history()"
      ],
      "metadata": {
        "colab": {
          "base_uri": "https://localhost:8080/"
        },
        "id": "LdG9PFdchg7g",
        "outputId": "10d32986-f88e-466c-e2ab-148af8ed6453"
      },
      "execution_count": null,
      "outputs": [
        {
          "output_type": "stream",
          "name": "stdout",
          "text": [
            "입금시간:  2024-01-08 14:26:26.575174+09:00 , 입금액:  10,000 , 잔액:  20,000\n",
            "입금시간:  2024-01-08 14:26:26.612253+09:00 , 입금액:  10,000 , 잔액:  20,000\n",
            "입금시간:  2024-01-08 14:26:26.612327+09:00 , 입금액:  10,000 , 잔액:  30,000\n",
            "입금시간:  2024-01-08 14:26:26.612384+09:00 , 입금액:  10,000 , 잔액:  40,000\n",
            "입금시간:  2024-01-08 14:26:26.612435+09:00 , 입금액:  10,000 , 잔액:  50,000\n",
            "입금시간:  2024-01-08 14:26:26.612482+09:00 , 입금액:  10,000 , 잔액:  60,500.0\n"
          ]
        }
      ]
    },
    {
      "cell_type": "code",
      "source": [
        "acc_정원.withdraw_history()"
      ],
      "metadata": {
        "colab": {
          "base_uri": "https://localhost:8080/"
        },
        "id": "Zd9r0WV4hvIV",
        "outputId": "4bfff92b-4720-4af9-99a8-502fbd43dcfc"
      },
      "execution_count": null,
      "outputs": [
        {
          "output_type": "stream",
          "name": "stdout",
          "text": [
            "출금시간:  2024-01-08 14:26:26.585412+09:00 , 출금액:  10,000 , 잔액:  10,000\n"
          ]
        }
      ]
    },
    {
      "cell_type": "code",
      "source": [
        "acc_정원.all_history()"
      ],
      "metadata": {
        "colab": {
          "base_uri": "https://localhost:8080/"
        },
        "id": "pz5yjX4MiG2i",
        "outputId": "b281c0d5-e441-4f43-fed3-db0f21586d7d"
      },
      "execution_count": null,
      "outputs": [
        {
          "output_type": "stream",
          "name": "stdout",
          "text": [
            "입금 , 시간:  2024-01-08 14:26:26.575174+09:00 , 금액:  10,000 , 잔액:  20,000\n",
            "출금 , 시간:  2024-01-08 14:26:26.585412+09:00 , 금액:  10,000 , 잔액:  10,000\n",
            "입금 , 시간:  2024-01-08 14:26:26.612253+09:00 , 금액:  10,000 , 잔액:  20,000\n",
            "입금 , 시간:  2024-01-08 14:26:26.612327+09:00 , 금액:  10,000 , 잔액:  30,000\n",
            "입금 , 시간:  2024-01-08 14:26:26.612384+09:00 , 금액:  10,000 , 잔액:  40,000\n",
            "입금 , 시간:  2024-01-08 14:26:26.612435+09:00 , 금액:  10,000 , 잔액:  50,000\n",
            "입금 , 시간:  2024-01-08 14:26:26.612482+09:00 , 금액:  10,000 , 잔액:  60,500.0\n"
          ]
        }
      ]
    },
    {
      "cell_type": "code",
      "source": [
        "acc_정원 = Account('정원', 10000)\n",
        "acc_준철 = Account('준철', 10000)\n",
        "\n",
        "print(\"정원:\",end=\"\")\n",
        "acc_정원.display_info()\n",
        "print(\"준철:\",end=\"\")\n",
        "acc_준철.display_info()\n",
        "print(\"-------------------\")\n",
        "\n",
        "def transfer(보내는계좌,받는계좌,금액):\n",
        "  보내는계좌.transfer_withdraw(금액)\n",
        "  받는계좌.transfer_deposit(금액)\n",
        "\n",
        "transfer(acc_정원, acc_준철,5000)\n",
        "\n",
        "print(\"정원:\",end=\"\")\n",
        "acc_정원.all_history()\n",
        "print(\"준철:\",end=\"\")\n",
        "acc_준철.all_history()\n"
      ],
      "metadata": {
        "colab": {
          "base_uri": "https://localhost:8080/"
        },
        "id": "_18tQTdmDnGb",
        "outputId": "5756ddae-530f-491b-b8d0-cfc0fc94fa2f"
      },
      "execution_count": null,
      "outputs": [
        {
          "output_type": "stream",
          "name": "stdout",
          "text": [
            "정원:은행이름:  SC은행\n",
            "예금주:  정원\n",
            "계좌번호:  978-58-026770\n",
            "잔액:  10,000\n",
            "준철:은행이름:  SC은행\n",
            "예금주:  준철\n",
            "계좌번호:  898-11-743288\n",
            "잔액:  10,000\n",
            "-------------------\n",
            "정원:송금 , 시간:  2024-01-08 14:26:26.658164+09:00 , 금액:  5,000 , 잔액:  5,000\n",
            "준철:수취 , 시간:  2024-01-08 14:26:26.658174+09:00 , 금액:  5,000 , 잔액:  15,000\n"
          ]
        }
      ]
    },
    {
      "cell_type": "code",
      "source": [
        "print(\"회고 : 서로 돌아가면서 코드를 작성해볼 수 있어서 참여도가 높아졌다. 다만, 10분이라는 시간이 너무 짧아서 흐름이 끊기는 듯한 느낌이 들었다. 20분이 적당하다고 생각된다\")\n"
      ],
      "metadata": {
        "id": "FLE-YNw09Yq4",
        "colab": {
          "base_uri": "https://localhost:8080/"
        },
        "outputId": "f8a6928f-41c3-4100-8556-ac2ff667dea0"
      },
      "execution_count": null,
      "outputs": [
        {
          "output_type": "stream",
          "name": "stdout",
          "text": [
            "회고 : 서로 돌아가면서 코드를 작성해볼 수 있어서 참여도가 높아졌다. 다만, 10분이라는 시간이 너무 짧아서 흐름이 끊기는 듯한 느낌이 들었다. 20분이 적당하다고 생각된다\n"
          ]
        }
      ]
    }
  ]
}
